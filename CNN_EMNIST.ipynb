{
 "cells": [
  {
   "cell_type": "code",
   "execution_count": 1,
   "metadata": {
    "collapsed": true
   },
   "outputs": [],
   "source": [
    "import numpy as np\n",
    "\n",
    "import torch\n",
    "import torch.nn as nn\n",
    "import  torch.nn.functional as F\n",
    "from torch.utils.data import DataLoader, TensorDataset\n",
    "from sklearn.model_selection import  train_test_split\n",
    "\n",
    "import matplotlib.pyplot as plt\n",
    "\n",
    "from torchsummary import summary\n",
    "\n",
    "import torchvision\n",
    "import copy"
   ]
  },
  {
   "cell_type": "code",
   "execution_count": 2,
   "outputs": [],
   "source": [
    "#Using gpu\n",
    "device = torch.device('cuda:0' if torch.cuda.is_available() else 'cpu')"
   ],
   "metadata": {
    "collapsed": false,
    "pycharm": {
     "name": "#%%\n"
    }
   }
  },
  {
   "cell_type": "markdown",
   "source": [
    "# Import and inspect data"
   ],
   "metadata": {
    "collapsed": false,
    "pycharm": {
     "name": "#%% md\n"
    }
   }
  },
  {
   "cell_type": "code",
   "execution_count": 3,
   "outputs": [],
   "source": [
    "#download data\n",
    "c_data = torchvision.datasets.EMNIST(root='emnist',split='letters',download=True)"
   ],
   "metadata": {
    "collapsed": false,
    "pycharm": {
     "name": "#%%\n"
    }
   }
  },
  {
   "cell_type": "code",
   "execution_count": 4,
   "outputs": [
    {
     "name": "stdout",
     "output_type": "stream",
     "text": [
      "['N/A', 'a', 'b', 'c', 'd', 'e', 'f', 'g', 'h', 'i', 'j', 'k', 'l', 'm', 'n', 'o', 'p', 'q', 'r', 's', 't', 'u', 'v', 'w', 'x', 'y', 'z']\n",
      "27classes\n"
     ]
    }
   ],
   "source": [
    "#inspect the data\n",
    "\n",
    "# the categories\n",
    "print(c_data.classes)\n",
    "print(str(len(c_data.classes)) + 'classes')"
   ],
   "metadata": {
    "collapsed": false,
    "pycharm": {
     "name": "#%%\n"
    }
   }
  },
  {
   "cell_type": "code",
   "execution_count": 5,
   "outputs": [
    {
     "name": "stdout",
     "output_type": "stream",
     "text": [
      "\n",
      " Data size\n",
      "torch.Size([124800, 28, 28])\n",
      "\n",
      "Tensor Data: \n",
      "torch.Size([124800, 1, 28, 28])\n"
     ]
    }
   ],
   "source": [
    "print('\\n Data size')\n",
    "print(c_data.data.shape)\n",
    "\n",
    "#transform to 4D tensor for conv layers (and transform from int8 to float)\n",
    "images = c_data.data.view([124800,1,28,28]).float() #availabel data instances, input color channel, height, weight\n",
    "print('\\nTensor Data: ')\n",
    "print(images.shape)"
   ],
   "metadata": {
    "collapsed": false,
    "pycharm": {
     "name": "#%%\n"
    }
   }
  },
  {
   "cell_type": "code",
   "execution_count": 6,
   "outputs": [
    {
     "name": "stdout",
     "output_type": "stream",
     "text": [
      "tensor(0)\n"
     ]
    }
   ],
   "source": [
    "# Class 'N/A' doen't exist in the data\n",
    "print(torch.sum(c_data.targets==0))"
   ],
   "metadata": {
    "collapsed": false,
    "pycharm": {
     "name": "#%%\n"
    }
   }
  },
  {
   "cell_type": "code",
   "execution_count": 7,
   "outputs": [
    {
     "data": {
      "text/plain": "tensor([ 1,  2,  3,  4,  5,  6,  7,  8,  9, 10, 11, 12, 13, 14, 15, 16, 17, 18,\n        19, 20, 21, 22, 23, 24, 25, 26])"
     },
     "execution_count": 7,
     "metadata": {},
     "output_type": "execute_result"
    }
   ],
   "source": [
    "# how ever it casues problem in One hot encoding\n",
    "torch.unique(c_data.targets)"
   ],
   "metadata": {
    "collapsed": false,
    "pycharm": {
     "name": "#%%\n"
    }
   }
  },
  {
   "cell_type": "code",
   "execution_count": 8,
   "outputs": [
    {
     "data": {
      "text/plain": "{'N/A': 0,\n 'a': 1,\n 'b': 2,\n 'c': 3,\n 'd': 4,\n 'e': 5,\n 'f': 6,\n 'g': 7,\n 'h': 8,\n 'i': 9,\n 'j': 10,\n 'k': 11,\n 'l': 12,\n 'm': 13,\n 'n': 14,\n 'o': 15,\n 'p': 16,\n 'q': 17,\n 'r': 18,\n 's': 19,\n 't': 20,\n 'u': 21,\n 'v': 22,\n 'w': 23,\n 'x': 24,\n 'y': 25,\n 'z': 26}"
     },
     "execution_count": 8,
     "metadata": {},
     "output_type": "execute_result"
    }
   ],
   "source": [
    "c_data.class_to_idx"
   ],
   "metadata": {
    "collapsed": false,
    "pycharm": {
     "name": "#%%\n"
    }
   }
  },
  {
   "cell_type": "code",
   "execution_count": 9,
   "outputs": [
    {
     "name": "stdout",
     "output_type": "stream",
     "text": [
      "torch.Size([124800])\n",
      "tensor(4800)\n"
     ]
    },
    {
     "data": {
      "text/plain": "tensor([ 0,  1,  2,  3,  4,  5,  6,  7,  8,  9, 10, 11, 12, 13, 14, 15, 16, 17,\n        18, 19, 20, 21, 22, 23, 24, 25])"
     },
     "execution_count": 9,
     "metadata": {},
     "output_type": "execute_result"
    }
   ],
   "source": [
    "# So therefore I will eliminate it and substract 1 from the original\n",
    "\n",
    "letter_cat= c_data.classes[1:]\n",
    "\n",
    "#relabel labels to start at 0\n",
    "labels = copy.deepcopy(c_data.targets)-1\n",
    "print(labels.shape)\n",
    "\n",
    "###\n",
    "print(torch.sum(labels==0))\n",
    "torch.unique(labels)"
   ],
   "metadata": {
    "collapsed": false,
    "pycharm": {
     "name": "#%%\n"
    }
   }
  },
  {
   "cell_type": "code",
   "execution_count": 10,
   "outputs": [
    {
     "data": {
      "text/plain": "<Figure size 432x288 with 1 Axes>",
      "image/png": "[encoded data removed]"
     },
     "metadata": {
      "needs_background": "light"
     },
     "output_type": "display_data"
    },
    {
     "data": {
      "text/plain": "<Figure size 432x288 with 1 Axes>",
      "image/png": "[encoded data removed]"
     },
     "metadata": {
      "needs_background": "light"
     },
     "output_type": "display_data"
    }
   ],
   "source": [
    "# next issue: normalize the images\n",
    "plt.hist(images[:10,:,:,:].view(1,-1).detach(),40)\n",
    "plt.title('Raw values')\n",
    "plt.show()\n",
    "\n",
    "###\n",
    "images /= torch.max(images)\n",
    "\n",
    "plt.hist(images[:10,:,:,:].view(1,-1).detach(),40)\n",
    "plt.title('After normalization')\n",
    "plt.show()"
   ],
   "metadata": {
    "collapsed": false,
    "pycharm": {
     "name": "#%%\n"
    }
   }
  },
  {
   "cell_type": "code",
   "execution_count": 11,
   "outputs": [
    {
     "data": {
      "text/plain": "<Figure size 936x432 with 21 Axes>",
      "image/png": "[encoded data removed]"
     },
     "metadata": {},
     "output_type": "display_data"
    }
   ],
   "source": [
    "# visualize some images\n",
    "fig,axs =plt.subplots(3,7,figsize=(13,6))\n",
    "\n",
    "for i, ax in enumerate(axs.flatten()):\n",
    "\n",
    "    #pick a random image and its target letter\n",
    "    which_pic = np.random.randint(images.shape[0])\n",
    "    I = np.squeeze(images[which_pic,:,:])\n",
    "    letter = letter_cat[labels[which_pic]]\n",
    "\n",
    "    #visualize\n",
    "    ax.imshow(I.T,cmap='gray')\n",
    "    ax.set_title('The letter is \"%s\"'%letter,c='white')\n",
    "    ax.set_xticks([])\n",
    "    ax.set_yticks([])\n",
    "plt.show()"
   ],
   "metadata": {
    "collapsed": false,
    "pycharm": {
     "name": "#%%\n"
    }
   }
  },
  {
   "cell_type": "markdown",
   "source": [
    "# Create train/test groups using Dataloader"
   ],
   "metadata": {
    "collapsed": false,
    "pycharm": {
     "name": "#%% md\n"
    }
   }
  },
  {
   "cell_type": "code",
   "execution_count": 12,
   "outputs": [],
   "source": [
    "#Step2: use sklearn to split the data\n",
    "X_train, X_test, y_train, y_test = train_test_split(images, labels, test_size=0.3)\n",
    "\n",
    "#step 3: Converting into pytorch tensor dataset\n",
    "train_data = TensorDataset(X_train,y_train)\n",
    "test_data = TensorDataset(X_test,y_test)\n",
    "\n",
    "#Translate into dataloader object\n",
    "batch_sz= 64\n",
    "train_aloader = DataLoader(train_data,batch_size=batch_sz,shuffle=True,drop_last=True)\n",
    "test_loder = DataLoader(test_data,batch_size=test_data.tensors[0].shape[0])"
   ],
   "metadata": {
    "collapsed": false,
    "pycharm": {
     "name": "#%%\n"
    }
   }
  },
  {
   "cell_type": "code",
   "execution_count": 13,
   "outputs": [
    {
     "name": "stdout",
     "output_type": "stream",
     "text": [
      "torch.Size([87360, 1, 28, 28])\n",
      "torch.Size([87360])\n"
     ]
    }
   ],
   "source": [
    "#Check size(should be images X channels X width X height\n",
    "print(train_aloader.dataset.tensors[0].shape)\n",
    "print(train_aloader.dataset.tensors[1].shape)"
   ],
   "metadata": {
    "collapsed": false,
    "pycharm": {
     "name": "#%%\n"
    }
   }
  },
  {
   "cell_type": "markdown",
   "source": [
    "# Create the Dl model"
   ],
   "metadata": {
    "collapsed": false,
    "pycharm": {
     "name": "#%% md\n"
    }
   }
  },
  {
   "cell_type": "code",
   "execution_count": 14,
   "outputs": [],
   "source": [
    "# Create a class for the model\n",
    "def make_net(printtoggle=False):\n",
    "\n",
    "    class emnist_net(nn.Module):\n",
    "        def __init__(self):\n",
    "            super().__init__()\n",
    "            # print toggle\n",
    "            self.print = printtoggle\n",
    "\n",
    "            ### Feature map layers\n",
    "            #first convolution layer\n",
    "            self.conv1 = nn.Conv2d(in_channels=1,out_channels=6,kernel_size=3,padding=1)\n",
    "            self.bnorm1 = nn.BatchNorm2d(6) #input the number of channles in the layer\n",
    "            #output_size: (28+2*1-3)/1+1 = 28/2 = 14 (/2 because of pooling)\n",
    "\n",
    "            #second convolution layer\n",
    "            self.conv2 = nn.Conv2d(in_channels=6,out_channels=6,kernel_size=3,padding=1)\n",
    "            self.bnorm2 = nn.BatchNorm2d(6)\n",
    "            #output_size: (14+2*1-3)/1+1 = 14/2 = 7 (/2 bec of pool)\n",
    "\n",
    "            ####________Linear decision layer______####\n",
    "            self.fc1 = nn.Linear(7*7*6,50)  #h X y X channels\n",
    "            self.fc2 = nn.Linear(50,26)\n",
    "\n",
    "        def forward(self,x):\n",
    "            if self.print: print(f\"Input: {list(x.shape)}\")\n",
    "\n",
    "            #first block convolution->maxpool->batchnorm-> relu\n",
    "            x = F.max_pool2d(self.conv1(x),2)\n",
    "            x = F.leaky_relu(self.bnorm1(x))\n",
    "            if self.print: print(f\"Second CPR block{list(x.shape)}\")\n",
    "\n",
    "            #reshape for linear layer\n",
    "            n_units = x.shape.numel()/x.shape[0]\n",
    "            x = x.view(-1,int(n_units))\n",
    "            if self.print: print(f'Vectorized: {list(x.shape)}')\n",
    "\n",
    "            return x\n",
    "\n",
    "    #create a class instance\n",
    "    net = emnist_net()\n",
    "\n",
    "    #loss function\n",
    "    loss_func = nn.CrossEntropyLoss()\n",
    "\n",
    "    #optimizer\n",
    "    optimizer = torch.optim.Adam(net.parameters(),lr=.001)\n",
    "\n",
    "    return net,loss_func,optimizer"
   ],
   "metadata": {
    "collapsed": false,
    "pycharm": {
     "name": "#%%\n"
    }
   }
  },
  {
   "cell_type": "code",
   "execution_count": 15,
   "outputs": [
    {
     "name": "stdout",
     "output_type": "stream",
     "text": [
      "Input: [37440, 1, 28, 28]\n",
      "Second CPR block[37440, 6, 14, 14]\n",
      "Vectorized: [37440, 1176]\n",
      "torch.Size([37440, 1176])\n",
      "\n",
      "tensor(7.7088, grad_fn=<NllLossBackward0>)\n"
     ]
    }
   ],
   "source": [
    "net,loss_func,optimizer = make_net(printtoggle=True)\n",
    "\n",
    "X,y = next(iter(test_loder))\n",
    "y_hat = net(X)\n",
    "\n",
    "print(y_hat.shape)\n",
    "loss = loss_func(y_hat,torch.squeeze(y))\n",
    "print(\"\")\n",
    "print(loss)"
   ],
   "metadata": {
    "collapsed": false,
    "pycharm": {
     "name": "#%%\n"
    }
   }
  },
  {
   "cell_type": "markdown",
   "source": [
    "# Train Model"
   ],
   "metadata": {
    "collapsed": false,
    "pycharm": {
     "name": "#%% md\n"
    }
   }
  },
  {
   "cell_type": "code",
   "execution_count": 16,
   "outputs": [],
   "source": [
    "# a function that trains the model\n",
    "\n",
    "def function_2_train():\n",
    "\n",
    "    #number of epochs\n",
    "    n_epochs = 10\n",
    "\n",
    "    #create a new model\n",
    "    net,loss_fun, optimizer = make_net()\n",
    "\n",
    "    #send the model to gpu\n",
    "    net.to(device=device)\n",
    "\n",
    "    #training losses\n",
    "    train_loss = torch.zeros(n_epochs)\n",
    "    test_loss = torch.zeros(n_epochs)\n",
    "    train_error = torch.zeros(n_epochs)\n",
    "    test_error = torch.zeros(n_epochs)\n",
    "\n",
    "    #loop over epochs\n",
    "    for epochi in range(n_epochs):\n",
    "\n",
    "        #loop over training data batches\n",
    "        net.train()\n",
    "        batch_er = []\n",
    "        batch_ls = []\n",
    "\n",
    "        for X,y in train_aloader:\n",
    "            X = X.to(device)\n",
    "            y= y.to(device)\n",
    "            y_hat = net(X)\n",
    "            loss = loss_fun(y_hat,y)\n",
    "\n",
    "            #backprop\n",
    "            optimizer.zero_grad()\n",
    "            loss.backward()\n",
    "            optimizer.step()\n",
    "\n",
    "            #loss and error from this batch\n",
    "            batch_ls.append(loss.item())\n",
    "            batch_er.append(   torch.mean((torch.argmax(y_hat,axis=1) !=y).float()).item()  )\n",
    "        #end of batch loop\n",
    "\n",
    "        train_loss[epochi] = np.mean(batch_ls)\n",
    "        train_error[epochi] = 100*np.mean(batch_er)\n",
    "\n",
    "\n",
    "        #test performance\n",
    "        net.eval()\n",
    "        X,y = next(iter(test_loder))\n",
    "        X = X.to(device)\n",
    "        y = y.to(device)\n",
    "        with torch.no_grad():\n",
    "            y_hat = net(X)\n",
    "            loss = loss_fun(y_hat,y)\n",
    "\n",
    "        test_loss[epochi] = loss.item()\n",
    "        test_error[epochi] = 100*torch.mean((torch.argmax(y_hat,axis=1)!=y).float()).item()\n",
    "\n",
    "    #end of epochs\n",
    "\n",
    "    return train_loss,test_loss,train_error,test_error"
   ],
   "metadata": {
    "collapsed": false,
    "pycharm": {
     "name": "#%%\n"
    }
   }
  },
  {
   "cell_type": "markdown",
   "source": [
    "# Run and show the result"
   ],
   "metadata": {
    "collapsed": false,
    "pycharm": {
     "name": "#%% md\n"
    }
   }
  },
  {
   "cell_type": "code",
   "execution_count": 17,
   "outputs": [],
   "source": [
    "train_loss,test_loss,train_error,test_error = function_2_train()"
   ],
   "metadata": {
    "collapsed": false,
    "pycharm": {
     "name": "#%%\n"
    }
   }
  },
  {
   "cell_type": "code",
   "execution_count": 18,
   "outputs": [
    {
     "data": {
      "text/plain": "<Figure size 1600x500 with 2 Axes>",
      "image/png": "[encoded data removed]"
     },
     "metadata": {
      "needs_background": "light"
     },
     "output_type": "display_data"
    }
   ],
   "source": [
    "fig,ax = plt.subplots(1,2,figsize=(16,5),dpi=100)\n",
    "\n",
    "ax[0].plot(train_loss,label='Train')\n",
    "ax[0].plot(test_loss,label='Test')\n",
    "ax[0].set_xlabel('Loss (MSE)')\n",
    "ax[0].set_title('Model Loss')\n",
    "ax[0].legend()\n",
    "ax[1].plot(train_error,label='Train')\n",
    "ax[1].plot(test_error,label='Test')\n",
    "ax[1].set_label('Epochs')\n",
    "ax[1].set_ylabel('Error rates (%)')\n",
    "ax[1].set_title(f'Model performance, erro rate: {test_error[-1]:.2f}%')\n",
    "plt.legend()\n",
    "\n",
    "plt.show()"
   ],
   "metadata": {
    "collapsed": false,
    "pycharm": {
     "name": "#%%\n"
    }
   }
  },
  {
   "cell_type": "code",
   "execution_count": 19,
   "outputs": [],
   "source": [
    "import sklearn.metrics as skm"
   ],
   "metadata": {
    "collapsed": false,
    "pycharm": {
     "name": "#%%\n"
    }
   }
  },
  {
   "cell_type": "code",
   "execution_count": null,
   "outputs": [],
   "source": [
    "import sklearn.metrics as skm\n",
    "\n",
    "# compute the confusion matrix\n",
    "C = skm.confusion_matrix(y.cpu(),torch.argmax(y_hat.cpu(),axis=1),normalize='true')\n",
    "\n",
    "# visualize it\n",
    "fig = plt.figure(figsize=(10,10))\n",
    "plt.imshow(C,'Blues',vmax=.05)\n",
    "\n",
    "# make the plot look nicer\n",
    "plt.xticks(range(26),labels=letter_cat)\n",
    "plt.yticks(range(26),labels=letter_cat)\n",
    "plt.title('TEST confusion matrix')\n",
    "plt.xlabel('True number')\n",
    "plt.xlabel('Predicted number')\n",
    "plt.ylabel('True number')\n",
    "\n",
    "plt.show()"
   ],
   "metadata": {
    "collapsed": false,
    "pycharm": {
     "name": "#%%\n",
     "is_executing": true
    }
   }
  },
  {
   "cell_type": "code",
   "execution_count": null,
   "outputs": [],
   "source": [],
   "metadata": {
    "collapsed": false,
    "pycharm": {
     "name": "#%%\n"
    }
   }
  }
 ],
 "metadata": {
  "kernelspec": {
   "display_name": "Python 3",
   "language": "python",
   "name": "python3"
  },
  "language_info": {
   "codemirror_mode": {
    "name": "ipython",
    "version": 2
   },
   "file_extension": ".py",
   "mimetype": "text/x-python",
   "name": "python",
   "nbconvert_exporter": "python",
   "pygments_lexer": "ipython2",
   "version": "2.7.6"
  }
 },
 "nbformat": 4,
 "nbformat_minor": 0
}