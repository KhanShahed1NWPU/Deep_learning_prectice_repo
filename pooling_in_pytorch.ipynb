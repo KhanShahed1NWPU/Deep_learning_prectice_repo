{
 "cells": [
  {
   "cell_type": "code",
   "execution_count": 2,
   "metadata": {
    "collapsed": true
   },
   "outputs": [],
   "source": [
    "#import libararies\n",
    "import torch\n",
    "import torch.nn as nn"
   ]
  },
  {
   "cell_type": "markdown",
   "source": [
    "# Create a maxpool instance"
   ],
   "metadata": {
    "collapsed": false,
    "pycharm": {
     "name": "#%% md\n"
    }
   }
  },
  {
   "cell_type": "code",
   "execution_count": 5,
   "outputs": [
    {
     "name": "stdout",
     "output_type": "stream",
     "text": [
      "MaxPool2d(kernel_size=3, stride=3, padding=0, dilation=1, ceil_mode=False)\n",
      "MaxPool3d(kernel_size=3, stride=3, padding=0, dilation=1, ceil_mode=False)\n"
     ]
    }
   ],
   "source": [
    "#Create a pool class instance with parameters\n",
    "\n",
    "#parameters\n",
    "poolSize = 3\n",
    "stride = 3\n",
    "\n",
    "#Create the instacne\n",
    "p2 = nn.MaxPool2d(poolSize,stride=3)\n",
    "p3 = nn.MaxPool3d(poolSize,stride=3)\n",
    "\n",
    "#let's have a look at them\n",
    "print(p2)\n",
    "print(p3)"
   ],
   "metadata": {
    "collapsed": false,
    "pycharm": {
     "name": "#%%\n"
    }
   }
  },
  {
   "cell_type": "code",
   "execution_count": 7,
   "outputs": [
    {
     "name": "stdout",
     "output_type": "stream",
     "text": [
      "2D image,2D maxpool: torch.Size([1, 1, 10, 10])\n",
      "\n",
      "3D image,2D maxpool: torch.Size([1, 3, 10, 10])\n",
      "\n",
      "3D image,3D maxpool: torch.Size([1, 1, 10, 10])\n",
      "\n"
     ]
    }
   ],
   "source": [
    "#Create image and apply maxpooling\n",
    "#create a 2d image and a 3d image\n",
    "img2 = torch.rand(1,1,30,30)\n",
    "img3 = torch.rand(1,3,30,30)\n",
    "\n",
    "#all combinations of image and maxpool dimensionality\n",
    "img2pool2 = p2(img2)\n",
    "print(f\"2D image,2D maxpool: {img2pool2.shape}\\n\")\n",
    "\n",
    "# img2pool3 = p3(img2)\n",
    "# print(f\"2D image,3D maxpool: {img2pool3.shape}\\n\")\n",
    "\n",
    "img3pool2 = p2(img3)\n",
    "print(f\"3D image,2D maxpool: {img3pool2.shape}\\n\")\n",
    "\n",
    "img3pool3 = p3(img3)\n",
    "print(f\"3D image,3D maxpool: {img3pool3.shape}\\n\")"
   ],
   "metadata": {
    "collapsed": false,
    "pycharm": {
     "name": "#%%\n"
    }
   }
  },
  {
   "cell_type": "markdown",
   "source": [
    "# Create a simple CNN"
   ],
   "metadata": {
    "collapsed": false,
    "pycharm": {
     "name": "#%% md\n"
    }
   }
  },
  {
   "cell_type": "code",
   "execution_count": 9,
   "outputs": [],
   "source": [
    "little_net = nn.Sequential(\n",
    "    ##the conv-pool block\n",
    "    nn.Conv2d(3,10,5,3,2), #convolution layer\n",
    "    nn.ReLU(),\n",
    "    nn.AvgPool3d(3,3),\n",
    "\n",
    "    ##the FFN block\n",
    "    nn.Flatten(),   #Vectorize to get from image to linear\n",
    "    nn.Linear(588,1),       #FC linear layer\n",
    "    nn.Sigmoid()            #output activation\n",
    ")"
   ],
   "metadata": {
    "collapsed": false,
    "pycharm": {
     "name": "#%%\n"
    }
   }
  },
  {
   "cell_type": "code",
   "execution_count": 10,
   "outputs": [
    {
     "data": {
      "text/plain": "tensor([[0.4920]], grad_fn=<SigmoidBackward0>)"
     },
     "execution_count": 10,
     "metadata": {},
     "output_type": "execute_result"
    }
   ],
   "source": [
    "img = torch.rand(1,3,128,128)\n",
    "little_net(img)"
   ],
   "metadata": {
    "collapsed": false,
    "pycharm": {
     "name": "#%%\n"
    }
   }
  },
  {
   "cell_type": "code",
   "execution_count": null,
   "outputs": [],
   "source": [],
   "metadata": {
    "collapsed": false,
    "pycharm": {
     "name": "#%%\n"
    }
   }
  }
 ],
 "metadata": {
  "kernelspec": {
   "display_name": "Python 3",
   "language": "python",
   "name": "python3"
  },
  "language_info": {
   "codemirror_mode": {
    "name": "ipython",
    "version": 2
   },
   "file_extension": ".py",
   "mimetype": "text/x-python",
   "name": "python",
   "nbconvert_exporter": "python",
   "pygments_lexer": "ipython2",
   "version": "2.7.6"
  }
 },
 "nbformat": 4,
 "nbformat_minor": 0
}